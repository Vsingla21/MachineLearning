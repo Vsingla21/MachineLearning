{
 "cells": [
  {
   "cell_type": "code",
   "execution_count": 1,
   "id": "1537cc50",
   "metadata": {
    "_cell_guid": "b1076dfc-b9ad-4769-8c92-a6c4dae69d19",
    "_uuid": "8f2839f25d086af736a60e9eeb907d3b93b6e0e5",
    "execution": {
     "iopub.execute_input": "2024-03-03T15:39:53.609502Z",
     "iopub.status.busy": "2024-03-03T15:39:53.608524Z",
     "iopub.status.idle": "2024-03-03T15:39:55.864659Z",
     "shell.execute_reply": "2024-03-03T15:39:55.863430Z"
    },
    "papermill": {
     "duration": 2.264857,
     "end_time": "2024-03-03T15:39:55.867450",
     "exception": false,
     "start_time": "2024-03-03T15:39:53.602593",
     "status": "completed"
    },
    "tags": []
   },
   "outputs": [
    {
     "name": "stdout",
     "output_type": "stream",
     "text": [
      "/kaggle/input/insurance/insurance.csv\n"
     ]
    }
   ],
   "source": [
    "import numpy as np\n",
    "import pandas as pd\n",
    "import os\n",
    "for dirname, _, filenames in os.walk('/kaggle/input'):\n",
    "    for filename in filenames:\n",
    "        print(os.path.join(dirname, filename))\n",
    "import matplotlib.pyplot as plt\n",
    "from sklearn import linear_model"
   ]
  },
  {
   "cell_type": "code",
   "execution_count": 2,
   "id": "4b9f2f1c",
   "metadata": {
    "execution": {
     "iopub.execute_input": "2024-03-03T15:39:55.877295Z",
     "iopub.status.busy": "2024-03-03T15:39:55.876677Z",
     "iopub.status.idle": "2024-03-03T15:39:55.912385Z",
     "shell.execute_reply": "2024-03-03T15:39:55.911293Z"
    },
    "jupyter": {
     "source_hidden": true
    },
    "papermill": {
     "duration": 0.043446,
     "end_time": "2024-03-03T15:39:55.914914",
     "exception": false,
     "start_time": "2024-03-03T15:39:55.871468",
     "status": "completed"
    },
    "tags": []
   },
   "outputs": [
    {
     "data": {
      "text/html": [
       "<div>\n",
       "<style scoped>\n",
       "    .dataframe tbody tr th:only-of-type {\n",
       "        vertical-align: middle;\n",
       "    }\n",
       "\n",
       "    .dataframe tbody tr th {\n",
       "        vertical-align: top;\n",
       "    }\n",
       "\n",
       "    .dataframe thead th {\n",
       "        text-align: right;\n",
       "    }\n",
       "</style>\n",
       "<table border=\"1\" class=\"dataframe\">\n",
       "  <thead>\n",
       "    <tr style=\"text-align: right;\">\n",
       "      <th></th>\n",
       "      <th>age</th>\n",
       "      <th>have_insurance</th>\n",
       "    </tr>\n",
       "  </thead>\n",
       "  <tbody>\n",
       "    <tr>\n",
       "      <th>0</th>\n",
       "      <td>22</td>\n",
       "      <td>0</td>\n",
       "    </tr>\n",
       "    <tr>\n",
       "      <th>1</th>\n",
       "      <td>25</td>\n",
       "      <td>0</td>\n",
       "    </tr>\n",
       "    <tr>\n",
       "      <th>2</th>\n",
       "      <td>47</td>\n",
       "      <td>1</td>\n",
       "    </tr>\n",
       "    <tr>\n",
       "      <th>3</th>\n",
       "      <td>52</td>\n",
       "      <td>0</td>\n",
       "    </tr>\n",
       "    <tr>\n",
       "      <th>4</th>\n",
       "      <td>46</td>\n",
       "      <td>1</td>\n",
       "    </tr>\n",
       "    <tr>\n",
       "      <th>5</th>\n",
       "      <td>56</td>\n",
       "      <td>1</td>\n",
       "    </tr>\n",
       "    <tr>\n",
       "      <th>6</th>\n",
       "      <td>55</td>\n",
       "      <td>0</td>\n",
       "    </tr>\n",
       "    <tr>\n",
       "      <th>7</th>\n",
       "      <td>60</td>\n",
       "      <td>1</td>\n",
       "    </tr>\n",
       "    <tr>\n",
       "      <th>8</th>\n",
       "      <td>62</td>\n",
       "      <td>1</td>\n",
       "    </tr>\n",
       "    <tr>\n",
       "      <th>9</th>\n",
       "      <td>61</td>\n",
       "      <td>1</td>\n",
       "    </tr>\n",
       "    <tr>\n",
       "      <th>10</th>\n",
       "      <td>18</td>\n",
       "      <td>0</td>\n",
       "    </tr>\n",
       "    <tr>\n",
       "      <th>11</th>\n",
       "      <td>28</td>\n",
       "      <td>0</td>\n",
       "    </tr>\n",
       "    <tr>\n",
       "      <th>12</th>\n",
       "      <td>27</td>\n",
       "      <td>0</td>\n",
       "    </tr>\n",
       "    <tr>\n",
       "      <th>13</th>\n",
       "      <td>29</td>\n",
       "      <td>0</td>\n",
       "    </tr>\n",
       "    <tr>\n",
       "      <th>14</th>\n",
       "      <td>49</td>\n",
       "      <td>1</td>\n",
       "    </tr>\n",
       "  </tbody>\n",
       "</table>\n",
       "</div>"
      ],
      "text/plain": [
       "    age  have_insurance\n",
       "0    22               0\n",
       "1    25               0\n",
       "2    47               1\n",
       "3    52               0\n",
       "4    46               1\n",
       "5    56               1\n",
       "6    55               0\n",
       "7    60               1\n",
       "8    62               1\n",
       "9    61               1\n",
       "10   18               0\n",
       "11   28               0\n",
       "12   27               0\n",
       "13   29               0\n",
       "14   49               1"
      ]
     },
     "execution_count": 2,
     "metadata": {},
     "output_type": "execute_result"
    }
   ],
   "source": [
    "df = pd.read_csv('/kaggle/input/insurance/insurance.csv')\n",
    "df"
   ]
  },
  {
   "cell_type": "code",
   "execution_count": 3,
   "id": "cca4167b",
   "metadata": {
    "execution": {
     "iopub.execute_input": "2024-03-03T15:39:55.924893Z",
     "iopub.status.busy": "2024-03-03T15:39:55.923934Z",
     "iopub.status.idle": "2024-03-03T15:39:55.930317Z",
     "shell.execute_reply": "2024-03-03T15:39:55.929203Z"
    },
    "papermill": {
     "duration": 0.013555,
     "end_time": "2024-03-03T15:39:55.932459",
     "exception": false,
     "start_time": "2024-03-03T15:39:55.918904",
     "status": "completed"
    },
    "tags": []
   },
   "outputs": [],
   "source": [
    "x = df.age\n",
    "y = df.have_insurance"
   ]
  },
  {
   "cell_type": "code",
   "execution_count": 4,
   "id": "dc8a93ae",
   "metadata": {
    "execution": {
     "iopub.execute_input": "2024-03-03T15:39:55.941850Z",
     "iopub.status.busy": "2024-03-03T15:39:55.941410Z",
     "iopub.status.idle": "2024-03-03T15:39:56.320451Z",
     "shell.execute_reply": "2024-03-03T15:39:56.319108Z"
    },
    "papermill": {
     "duration": 0.386696,
     "end_time": "2024-03-03T15:39:56.322913",
     "exception": false,
     "start_time": "2024-03-03T15:39:55.936217",
     "status": "completed"
    },
    "tags": []
   },
   "outputs": [
    {
     "data": {
      "text/plain": [
       "<matplotlib.collections.PathCollection at 0x7f94e313f580>"
      ]
     },
     "execution_count": 4,
     "metadata": {},
     "output_type": "execute_result"
    },
    {
     "data": {
      "image/png": "[encoded data removed]",
      "text/plain": [
       "<Figure size 640x480 with 1 Axes>"
      ]
     },
     "metadata": {},
     "output_type": "display_data"
    }
   ],
   "source": [
    "%matplotlib inline\n",
    "plt.xlabel(\"Age\")\n",
    "plt.ylabel(\"Have Insurance or Not\")\n",
    "plt.scatter(x,y,color='red', marker='+')"
   ]
  },
  {
   "cell_type": "code",
   "execution_count": 5,
   "id": "811a38f3",
   "metadata": {
    "execution": {
     "iopub.execute_input": "2024-03-03T15:39:56.333805Z",
     "iopub.status.busy": "2024-03-03T15:39:56.332685Z",
     "iopub.status.idle": "2024-03-03T15:39:56.361806Z",
     "shell.execute_reply": "2024-03-03T15:39:56.360730Z"
    },
    "papermill": {
     "duration": 0.037027,
     "end_time": "2024-03-03T15:39:56.364182",
     "exception": false,
     "start_time": "2024-03-03T15:39:56.327155",
     "status": "completed"
    },
    "tags": []
   },
   "outputs": [
    {
     "data": {
      "text/html": [
       "<style>#sk-container-id-1 {color: black;background-color: white;}#sk-container-id-1 pre{padding: 0;}#sk-container-id-1 div.sk-toggleable {background-color: white;}#sk-container-id-1 label.sk-toggleable__label {cursor: pointer;display: block;width: 100%;margin-bottom: 0;padding: 0.3em;box-sizing: border-box;text-align: center;}#sk-container-id-1 label.sk-toggleable__label-arrow:before {content: \"▸\";float: left;margin-right: 0.25em;color: #696969;}#sk-container-id-1 label.sk-toggleable__label-arrow:hover:before {color: black;}#sk-container-id-1 div.sk-estimator:hover label.sk-toggleable__label-arrow:before {color: black;}#sk-container-id-1 div.sk-toggleable__content {max-height: 0;max-width: 0;overflow: hidden;text-align: left;background-color: #f0f8ff;}#sk-container-id-1 div.sk-toggleable__content pre {margin: 0.2em;color: black;border-radius: 0.25em;background-color: #f0f8ff;}#sk-container-id-1 input.sk-toggleable__control:checked~div.sk-toggleable__content {max-height: 200px;max-width: 100%;overflow: auto;}#sk-container-id-1 input.sk-toggleable__control:checked~label.sk-toggleable__label-arrow:before {content: \"▾\";}#sk-container-id-1 div.sk-estimator input.sk-toggleable__control:checked~label.sk-toggleable__label {background-color: #d4ebff;}#sk-container-id-1 div.sk-label input.sk-toggleable__control:checked~label.sk-toggleable__label {background-color: #d4ebff;}#sk-container-id-1 input.sk-hidden--visually {border: 0;clip: rect(1px 1px 1px 1px);clip: rect(1px, 1px, 1px, 1px);height: 1px;margin: -1px;overflow: hidden;padding: 0;position: absolute;width: 1px;}#sk-container-id-1 div.sk-estimator {font-family: monospace;background-color: #f0f8ff;border: 1px dotted black;border-radius: 0.25em;box-sizing: border-box;margin-bottom: 0.5em;}#sk-container-id-1 div.sk-estimator:hover {background-color: #d4ebff;}#sk-container-id-1 div.sk-parallel-item::after {content: \"\";width: 100%;border-bottom: 1px solid gray;flex-grow: 1;}#sk-container-id-1 div.sk-label:hover label.sk-toggleable__label {background-color: #d4ebff;}#sk-container-id-1 div.sk-serial::before {content: \"\";position: absolute;border-left: 1px solid gray;box-sizing: border-box;top: 0;bottom: 0;left: 50%;z-index: 0;}#sk-container-id-1 div.sk-serial {display: flex;flex-direction: column;align-items: center;background-color: white;padding-right: 0.2em;padding-left: 0.2em;position: relative;}#sk-container-id-1 div.sk-item {position: relative;z-index: 1;}#sk-container-id-1 div.sk-parallel {display: flex;align-items: stretch;justify-content: center;background-color: white;position: relative;}#sk-container-id-1 div.sk-item::before, #sk-container-id-1 div.sk-parallel-item::before {content: \"\";position: absolute;border-left: 1px solid gray;box-sizing: border-box;top: 0;bottom: 0;left: 50%;z-index: -1;}#sk-container-id-1 div.sk-parallel-item {display: flex;flex-direction: column;z-index: 1;position: relative;background-color: white;}#sk-container-id-1 div.sk-parallel-item:first-child::after {align-self: flex-end;width: 50%;}#sk-container-id-1 div.sk-parallel-item:last-child::after {align-self: flex-start;width: 50%;}#sk-container-id-1 div.sk-parallel-item:only-child::after {width: 0;}#sk-container-id-1 div.sk-dashed-wrapped {border: 1px dashed gray;margin: 0 0.4em 0.5em 0.4em;box-sizing: border-box;padding-bottom: 0.4em;background-color: white;}#sk-container-id-1 div.sk-label label {font-family: monospace;font-weight: bold;display: inline-block;line-height: 1.2em;}#sk-container-id-1 div.sk-label-container {text-align: center;}#sk-container-id-1 div.sk-container {/* jupyter's `normalize.less` sets `[hidden] { display: none; }` but bootstrap.min.css set `[hidden] { display: none !important; }` so we also need the `!important` here to be able to override the default hidden behavior on the sphinx rendered scikit-learn.org. See: https://github.com/scikit-learn/scikit-learn/issues/21755 */display: inline-block !important;position: relative;}#sk-container-id-1 div.sk-text-repr-fallback {display: none;}</style><div id=\"sk-container-id-1\" class=\"sk-top-container\"><div class=\"sk-text-repr-fallback\"><pre>LinearRegression()</pre><b>In a Jupyter environment, please rerun this cell to show the HTML representation or trust the notebook. <br />On GitHub, the HTML representation is unable to render, please try loading this page with nbviewer.org.</b></div><div class=\"sk-container\" hidden><div class=\"sk-item\"><div class=\"sk-estimator sk-toggleable\"><input class=\"sk-toggleable__control sk-hidden--visually\" id=\"sk-estimator-id-1\" type=\"checkbox\" checked><label for=\"sk-estimator-id-1\" class=\"sk-toggleable__label sk-toggleable__label-arrow\">LinearRegression</label><div class=\"sk-toggleable__content\"><pre>LinearRegression()</pre></div></div></div></div></div>"
      ],
      "text/plain": [
       "LinearRegression()"
      ]
     },
     "execution_count": 5,
     "metadata": {},
     "output_type": "execute_result"
    }
   ],
   "source": [
    "reg = linear_model.LinearRegression()\n",
    "reg.fit(df[['age']],df.have_insurance)"
   ]
  },
  {
   "cell_type": "code",
   "execution_count": 6,
   "id": "53dd5f7c",
   "metadata": {
    "execution": {
     "iopub.execute_input": "2024-03-03T15:39:56.374550Z",
     "iopub.status.busy": "2024-03-03T15:39:56.374130Z",
     "iopub.status.idle": "2024-03-03T15:39:56.622362Z",
     "shell.execute_reply": "2024-03-03T15:39:56.621189Z"
    },
    "papermill": {
     "duration": 0.256206,
     "end_time": "2024-03-03T15:39:56.624765",
     "exception": false,
     "start_time": "2024-03-03T15:39:56.368559",
     "status": "completed"
    },
    "tags": []
   },
   "outputs": [
    {
     "data": {
      "text/plain": [
       "[<matplotlib.lines.Line2D at 0x7f94e0bf79a0>]"
      ]
     },
     "execution_count": 6,
     "metadata": {},
     "output_type": "execute_result"
    },
    {
     "data": {
      "image/png": "[encoded data removed]",
      "text/plain": [
       "<Figure size 640x480 with 1 Axes>"
      ]
     },
     "metadata": {},
     "output_type": "display_data"
    }
   ],
   "source": [
    "%matplotlib inline\n",
    "plt.xlabel(\"Age\")\n",
    "plt.ylabel(\"Have Insurance or Not\")\n",
    "plt.scatter(x,y,color='red', marker='+')\n",
    "plt.plot(df.age,reg.predict(df[['age']]), color='blue')"
   ]
  },
  {
   "cell_type": "markdown",
   "id": "9d281f06",
   "metadata": {
    "papermill": {
     "duration": 0.004468,
     "end_time": "2024-03-03T15:39:56.634161",
     "exception": false,
     "start_time": "2024-03-03T15:39:56.629693",
     "status": "completed"
    },
    "tags": []
   },
   "source": [
    "In cases like this, the linear function predicts wrong/missed out values at higher age values. So ratger than linear regression, we prefer using S-shaped functions(graphs) which cover all data points. These are obtained by **Sigmoid** or **Logit Function**."
   ]
  },
  {
   "cell_type": "markdown",
   "id": "87c2ecb7",
   "metadata": {
    "papermill": {
     "duration": 0.004242,
     "end_time": "2024-03-03T15:39:56.642928",
     "exception": false,
     "start_time": "2024-03-03T15:39:56.638686",
     "status": "completed"
    },
    "tags": []
   },
   "source": [
    "Sigmoid Function :- **sigmoid(z) = 1 / (1 + e^(-z) )**\n",
    "e = Euler's number ~ 2.71828\n",
    "\n",
    "It takes an input value and converts that input in range 0 to 1"
   ]
  },
  {
   "cell_type": "code",
   "execution_count": 7,
   "id": "cfa53d67",
   "metadata": {
    "execution": {
     "iopub.execute_input": "2024-03-03T15:39:56.653955Z",
     "iopub.status.busy": "2024-03-03T15:39:56.653552Z",
     "iopub.status.idle": "2024-03-03T15:39:56.660297Z",
     "shell.execute_reply": "2024-03-03T15:39:56.659191Z"
    },
    "papermill": {
     "duration": 0.015068,
     "end_time": "2024-03-03T15:39:56.662465",
     "exception": false,
     "start_time": "2024-03-03T15:39:56.647397",
     "status": "completed"
    },
    "tags": []
   },
   "outputs": [
    {
     "data": {
      "text/plain": [
       "array([0.02398045])"
      ]
     },
     "execution_count": 7,
     "metadata": {},
     "output_type": "execute_result"
    }
   ],
   "source": [
    "reg.coef_"
   ]
  },
  {
   "cell_type": "code",
   "execution_count": 8,
   "id": "3a7cda9d",
   "metadata": {
    "execution": {
     "iopub.execute_input": "2024-03-03T15:39:56.674003Z",
     "iopub.status.busy": "2024-03-03T15:39:56.673599Z",
     "iopub.status.idle": "2024-03-03T15:39:56.680312Z",
     "shell.execute_reply": "2024-03-03T15:39:56.679197Z"
    },
    "papermill": {
     "duration": 0.015369,
     "end_time": "2024-03-03T15:39:56.682697",
     "exception": false,
     "start_time": "2024-03-03T15:39:56.667328",
     "status": "completed"
    },
    "tags": []
   },
   "outputs": [
    {
     "data": {
      "text/plain": [
       "-0.5517030701084465"
      ]
     },
     "execution_count": 8,
     "metadata": {},
     "output_type": "execute_result"
    }
   ],
   "source": [
    "reg.intercept_"
   ]
  }
 ],
 "metadata": {
  "kaggle": {
   "accelerator": "none",
   "dataSources": [
    {
     "datasetId": 4532129,
     "sourceId": 7751514,
     "sourceType": "datasetVersion"
    }
   ],
   "dockerImageVersionId": 30664,
   "isGpuEnabled": false,
   "isInternetEnabled": false,
   "language": "python",
   "sourceType": "notebook"
  },
  "kernelspec": {
   "display_name": "Python 3",
   "language": "python",
   "name": "python3"
  },
  "language_info": {
   "codemirror_mode": {
    "name": "ipython",
    "version": 3
   },
   "file_extension": ".py",
   "mimetype": "text/x-python",
   "name": "python",
   "nbconvert_exporter": "python",
   "pygments_lexer": "ipython3",
   "version": "3.10.13"
  },
  "papermill": {
   "default_parameters": {},
   "duration": 9.079265,
   "end_time": "2024-03-03T15:39:59.810179",
   "environment_variables": {},
   "exception": null,
   "input_path": "__notebook__.ipynb",
   "output_path": "__notebook__.ipynb",
   "parameters": {},
   "start_time": "2024-03-03T15:39:50.730914",
   "version": "2.5.0"
  }
 },
 "nbformat": 4,
 "nbformat_minor": 5
}
