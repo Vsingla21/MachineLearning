{
 "cells": [
  {
   "cell_type": "code",
   "execution_count": 1,
   "id": "e477438e",
   "metadata": {
    "execution": {
     "iopub.execute_input": "2024-03-02T17:23:21.858798Z",
     "iopub.status.busy": "2024-03-02T17:23:21.858389Z",
     "iopub.status.idle": "2024-03-02T17:23:24.324566Z",
     "shell.execute_reply": "2024-03-02T17:23:24.323319Z"
    },
    "papermill": {
     "duration": 2.476719,
     "end_time": "2024-03-02T17:23:24.327639",
     "exception": false,
     "start_time": "2024-03-02T17:23:21.850920",
     "status": "completed"
    },
    "tags": []
   },
   "outputs": [],
   "source": [
    "import pandas as pd\n",
    "import numpy as np\n",
    "import matplotlib.pyplot as plt\n",
    "from sklearn import linear_model\n",
    "from sklearn.linear_model import LinearRegression"
   ]
  },
  {
   "cell_type": "code",
   "execution_count": 2,
   "id": "32a046cb",
   "metadata": {
    "execution": {
     "iopub.execute_input": "2024-03-02T17:23:24.338483Z",
     "iopub.status.busy": "2024-03-02T17:23:24.337894Z",
     "iopub.status.idle": "2024-03-02T17:23:24.344044Z",
     "shell.execute_reply": "2024-03-02T17:23:24.342815Z"
    },
    "papermill": {
     "duration": 0.014472,
     "end_time": "2024-03-02T17:23:24.346999",
     "exception": false,
     "start_time": "2024-03-02T17:23:24.332527",
     "status": "completed"
    },
    "tags": []
   },
   "outputs": [],
   "source": [
    "X=np.array([[2600],[3000],[3200],[3600],[4000]])\n",
    "y=np.array([550000,565000,610000,680000,725000])"
   ]
  },
  {
   "cell_type": "code",
   "execution_count": 3,
   "id": "1e127683",
   "metadata": {
    "execution": {
     "iopub.execute_input": "2024-03-02T17:23:24.356671Z",
     "iopub.status.busy": "2024-03-02T17:23:24.356209Z",
     "iopub.status.idle": "2024-03-02T17:23:24.842127Z",
     "shell.execute_reply": "2024-03-02T17:23:24.841196Z"
    },
    "papermill": {
     "duration": 0.493466,
     "end_time": "2024-03-02T17:23:24.844495",
     "exception": false,
     "start_time": "2024-03-02T17:23:24.351029",
     "status": "completed"
    },
    "tags": []
   },
   "outputs": [
    {
     "data": {
      "text/plain": [
       "Text(0.5, 1.0, 'Scatter Plot')"
      ]
     },
     "execution_count": 3,
     "metadata": {},
     "output_type": "execute_result"
    },
    {
     "data": {
      "image/png": "[encoded data removed]",
      "text/plain": [
       "<Figure size 640x480 with 1 Axes>"
      ]
     },
     "metadata": {},
     "output_type": "display_data"
    }
   ],
   "source": [
    "%matplotlib inline\n",
    "plt.scatter(X,y, color='red', marker='+')\n",
    "plt.xlabel('areas') \n",
    "plt.ylabel('prices') \n",
    "plt.title('Scatter Plot')"
   ]
  },
  {
   "cell_type": "code",
   "execution_count": 4,
   "id": "d9d18fa7",
   "metadata": {
    "execution": {
     "iopub.execute_input": "2024-03-02T17:23:24.856475Z",
     "iopub.status.busy": "2024-03-02T17:23:24.855466Z",
     "iopub.status.idle": "2024-03-02T17:23:24.880961Z",
     "shell.execute_reply": "2024-03-02T17:23:24.878885Z"
    },
    "papermill": {
     "duration": 0.034389,
     "end_time": "2024-03-02T17:23:24.883699",
     "exception": false,
     "start_time": "2024-03-02T17:23:24.849310",
     "status": "completed"
    },
    "tags": []
   },
   "outputs": [
    {
     "data": {
      "text/html": [
       "<style>#sk-container-id-1 {color: black;background-color: white;}#sk-container-id-1 pre{padding: 0;}#sk-container-id-1 div.sk-toggleable {background-color: white;}#sk-container-id-1 label.sk-toggleable__label {cursor: pointer;display: block;width: 100%;margin-bottom: 0;padding: 0.3em;box-sizing: border-box;text-align: center;}#sk-container-id-1 label.sk-toggleable__label-arrow:before {content: \"▸\";float: left;margin-right: 0.25em;color: #696969;}#sk-container-id-1 label.sk-toggleable__label-arrow:hover:before {color: black;}#sk-container-id-1 div.sk-estimator:hover label.sk-toggleable__label-arrow:before {color: black;}#sk-container-id-1 div.sk-toggleable__content {max-height: 0;max-width: 0;overflow: hidden;text-align: left;background-color: #f0f8ff;}#sk-container-id-1 div.sk-toggleable__content pre {margin: 0.2em;color: black;border-radius: 0.25em;background-color: #f0f8ff;}#sk-container-id-1 input.sk-toggleable__control:checked~div.sk-toggleable__content {max-height: 200px;max-width: 100%;overflow: auto;}#sk-container-id-1 input.sk-toggleable__control:checked~label.sk-toggleable__label-arrow:before {content: \"▾\";}#sk-container-id-1 div.sk-estimator input.sk-toggleable__control:checked~label.sk-toggleable__label {background-color: #d4ebff;}#sk-container-id-1 div.sk-label input.sk-toggleable__control:checked~label.sk-toggleable__label {background-color: #d4ebff;}#sk-container-id-1 input.sk-hidden--visually {border: 0;clip: rect(1px 1px 1px 1px);clip: rect(1px, 1px, 1px, 1px);height: 1px;margin: -1px;overflow: hidden;padding: 0;position: absolute;width: 1px;}#sk-container-id-1 div.sk-estimator {font-family: monospace;background-color: #f0f8ff;border: 1px dotted black;border-radius: 0.25em;box-sizing: border-box;margin-bottom: 0.5em;}#sk-container-id-1 div.sk-estimator:hover {background-color: #d4ebff;}#sk-container-id-1 div.sk-parallel-item::after {content: \"\";width: 100%;border-bottom: 1px solid gray;flex-grow: 1;}#sk-container-id-1 div.sk-label:hover label.sk-toggleable__label {background-color: #d4ebff;}#sk-container-id-1 div.sk-serial::before {content: \"\";position: absolute;border-left: 1px solid gray;box-sizing: border-box;top: 0;bottom: 0;left: 50%;z-index: 0;}#sk-container-id-1 div.sk-serial {display: flex;flex-direction: column;align-items: center;background-color: white;padding-right: 0.2em;padding-left: 0.2em;position: relative;}#sk-container-id-1 div.sk-item {position: relative;z-index: 1;}#sk-container-id-1 div.sk-parallel {display: flex;align-items: stretch;justify-content: center;background-color: white;position: relative;}#sk-container-id-1 div.sk-item::before, #sk-container-id-1 div.sk-parallel-item::before {content: \"\";position: absolute;border-left: 1px solid gray;box-sizing: border-box;top: 0;bottom: 0;left: 50%;z-index: -1;}#sk-container-id-1 div.sk-parallel-item {display: flex;flex-direction: column;z-index: 1;position: relative;background-color: white;}#sk-container-id-1 div.sk-parallel-item:first-child::after {align-self: flex-end;width: 50%;}#sk-container-id-1 div.sk-parallel-item:last-child::after {align-self: flex-start;width: 50%;}#sk-container-id-1 div.sk-parallel-item:only-child::after {width: 0;}#sk-container-id-1 div.sk-dashed-wrapped {border: 1px dashed gray;margin: 0 0.4em 0.5em 0.4em;box-sizing: border-box;padding-bottom: 0.4em;background-color: white;}#sk-container-id-1 div.sk-label label {font-family: monospace;font-weight: bold;display: inline-block;line-height: 1.2em;}#sk-container-id-1 div.sk-label-container {text-align: center;}#sk-container-id-1 div.sk-container {/* jupyter's `normalize.less` sets `[hidden] { display: none; }` but bootstrap.min.css set `[hidden] { display: none !important; }` so we also need the `!important` here to be able to override the default hidden behavior on the sphinx rendered scikit-learn.org. See: https://github.com/scikit-learn/scikit-learn/issues/21755 */display: inline-block !important;position: relative;}#sk-container-id-1 div.sk-text-repr-fallback {display: none;}</style><div id=\"sk-container-id-1\" class=\"sk-top-container\"><div class=\"sk-text-repr-fallback\"><pre>LinearRegression()</pre><b>In a Jupyter environment, please rerun this cell to show the HTML representation or trust the notebook. <br />On GitHub, the HTML representation is unable to render, please try loading this page with nbviewer.org.</b></div><div class=\"sk-container\" hidden><div class=\"sk-item\"><div class=\"sk-estimator sk-toggleable\"><input class=\"sk-toggleable__control sk-hidden--visually\" id=\"sk-estimator-id-1\" type=\"checkbox\" checked><label for=\"sk-estimator-id-1\" class=\"sk-toggleable__label sk-toggleable__label-arrow\">LinearRegression</label><div class=\"sk-toggleable__content\"><pre>LinearRegression()</pre></div></div></div></div></div>"
      ],
      "text/plain": [
       "LinearRegression()"
      ]
     },
     "execution_count": 4,
     "metadata": {},
     "output_type": "execute_result"
    }
   ],
   "source": [
    "reg= linear_model.LinearRegression()\n",
    "reg.fit(X,y)"
   ]
  },
  {
   "cell_type": "code",
   "execution_count": 5,
   "id": "6dc0de38",
   "metadata": {
    "execution": {
     "iopub.execute_input": "2024-03-02T17:23:24.895916Z",
     "iopub.status.busy": "2024-03-02T17:23:24.895483Z",
     "iopub.status.idle": "2024-03-02T17:23:24.903446Z",
     "shell.execute_reply": "2024-03-02T17:23:24.902225Z"
    },
    "papermill": {
     "duration": 0.01686,
     "end_time": "2024-03-02T17:23:24.905751",
     "exception": false,
     "start_time": "2024-03-02T17:23:24.888891",
     "status": "completed"
    },
    "tags": []
   },
   "outputs": [
    {
     "data": {
      "text/plain": [
       "array([135.78767123])"
      ]
     },
     "execution_count": 5,
     "metadata": {},
     "output_type": "execute_result"
    }
   ],
   "source": [
    "reg.coef_"
   ]
  },
  {
   "cell_type": "code",
   "execution_count": 6,
   "id": "597a2ebc",
   "metadata": {
    "execution": {
     "iopub.execute_input": "2024-03-02T17:23:24.918519Z",
     "iopub.status.busy": "2024-03-02T17:23:24.918054Z",
     "iopub.status.idle": "2024-03-02T17:23:24.925280Z",
     "shell.execute_reply": "2024-03-02T17:23:24.924090Z"
    },
    "papermill": {
     "duration": 0.016974,
     "end_time": "2024-03-02T17:23:24.927779",
     "exception": false,
     "start_time": "2024-03-02T17:23:24.910805",
     "status": "completed"
    },
    "tags": []
   },
   "outputs": [
    {
     "data": {
      "text/plain": [
       "180616.43835616432"
      ]
     },
     "execution_count": 6,
     "metadata": {},
     "output_type": "execute_result"
    }
   ],
   "source": [
    "reg.intercept_"
   ]
  },
  {
   "cell_type": "code",
   "execution_count": 7,
   "id": "efd07503",
   "metadata": {
    "execution": {
     "iopub.execute_input": "2024-03-02T17:23:24.940356Z",
     "iopub.status.busy": "2024-03-02T17:23:24.939883Z",
     "iopub.status.idle": "2024-03-02T17:23:25.217102Z",
     "shell.execute_reply": "2024-03-02T17:23:25.215338Z"
    },
    "papermill": {
     "duration": 0.286714,
     "end_time": "2024-03-02T17:23:25.219874",
     "exception": false,
     "start_time": "2024-03-02T17:23:24.933160",
     "status": "completed"
    },
    "tags": []
   },
   "outputs": [
    {
     "data": {
      "text/plain": [
       "[<matplotlib.lines.Line2D at 0x79816e6202e0>]"
      ]
     },
     "execution_count": 7,
     "metadata": {},
     "output_type": "execute_result"
    },
    {
     "data": {
      "image/png": "[encoded data removed]",
      "text/plain": [
       "<Figure size 640x480 with 1 Axes>"
      ]
     },
     "metadata": {},
     "output_type": "display_data"
    }
   ],
   "source": [
    "%matplotlib inline\n",
    "plt.scatter(X,y, color='red', marker='+')\n",
    "plt.xlabel('areas') \n",
    "plt.ylabel('prices') \n",
    "plt.plot(X,reg.predict(X), color='blue')"
   ]
  },
  {
   "cell_type": "code",
   "execution_count": 8,
   "id": "81aa6d69",
   "metadata": {
    "execution": {
     "iopub.execute_input": "2024-03-02T17:23:25.234235Z",
     "iopub.status.busy": "2024-03-02T17:23:25.233579Z",
     "iopub.status.idle": "2024-03-02T17:23:25.243863Z",
     "shell.execute_reply": "2024-03-02T17:23:25.242524Z"
    },
    "papermill": {
     "duration": 0.020363,
     "end_time": "2024-03-02T17:23:25.246432",
     "exception": false,
     "start_time": "2024-03-02T17:23:25.226069",
     "status": "completed"
    },
    "tags": []
   },
   "outputs": [
    {
     "data": {
      "text/plain": [
       "array([587979.45205479])"
      ]
     },
     "execution_count": 8,
     "metadata": {},
     "output_type": "execute_result"
    }
   ],
   "source": [
    "v=[[3000]]\n",
    "reg.predict(v)"
   ]
  },
  {
   "cell_type": "code",
   "execution_count": 9,
   "id": "92773922",
   "metadata": {
    "execution": {
     "iopub.execute_input": "2024-03-02T17:23:25.261610Z",
     "iopub.status.busy": "2024-03-02T17:23:25.260753Z",
     "iopub.status.idle": "2024-03-02T17:23:25.268148Z",
     "shell.execute_reply": "2024-03-02T17:23:25.267299Z"
    },
    "papermill": {
     "duration": 0.017771,
     "end_time": "2024-03-02T17:23:25.270430",
     "exception": false,
     "start_time": "2024-03-02T17:23:25.252659",
     "status": "completed"
    },
    "tags": []
   },
   "outputs": [
    {
     "data": {
      "text/plain": [
       "array([859554.79452055])"
      ]
     },
     "execution_count": 9,
     "metadata": {},
     "output_type": "execute_result"
    }
   ],
   "source": [
    "\n",
    "reg.predict([[5000]])"
   ]
  }
 ],
 "metadata": {
  "kaggle": {
   "accelerator": "none",
   "dataSources": [],
   "dockerImageVersionId": 30664,
   "isGpuEnabled": false,
   "isInternetEnabled": false,
   "language": "python",
   "sourceType": "notebook"
  },
  "kernelspec": {
   "display_name": "Python 3",
   "language": "python",
   "name": "python3"
  },
  "language_info": {
   "codemirror_mode": {
    "name": "ipython",
    "version": 3
   },
   "file_extension": ".py",
   "mimetype": "text/x-python",
   "name": "python",
   "nbconvert_exporter": "python",
   "pygments_lexer": "ipython3",
   "version": "3.10.13"
  },
  "papermill": {
   "default_parameters": {},
   "duration": 10.20682,
   "end_time": "2024-03-02T17:23:28.859520",
   "environment_variables": {},
   "exception": null,
   "input_path": "__notebook__.ipynb",
   "output_path": "__notebook__.ipynb",
   "parameters": {},
   "start_time": "2024-03-02T17:23:18.652700",
   "version": "2.5.0"
  }
 },
 "nbformat": 4,
 "nbformat_minor": 5
}
